{
 "cells": [
  {
   "cell_type": "markdown",
   "id": "be152e3a",
   "metadata": {},
   "source": [
    "# BASIC PROGRAM TO FIND THE FIBONACCI NUMBER \n",
    "\n",
    "# 0,1,1,2,3,5,8,13,21,34...\n",
    "\n",
    "\n",
    "\n",
    "   ### function(n) = function of (n-1) + function of (n-2) "
   ]
  },
  {
   "cell_type": "code",
   "execution_count": 12,
   "id": "f6c41300",
   "metadata": {},
   "outputs": [
    {
     "name": "stdout",
     "output_type": "stream",
     "text": [
      "How many terms ?5\n",
      "Fibonacci Sequence : \n",
      "0\n",
      "1\n",
      "1\n",
      "2\n",
      "3\n"
     ]
    }
   ],
   "source": [
    "#finding the nth fibonacci number using both if-else condition and using while loop.\n",
    "\n",
    "#first initialize the two initial numbers let it be a=0 and b=1;\n",
    "a = 0\n",
    "b = 1\n",
    "\n",
    "# taking input from the user\n",
    "n = int(input(\"How many terms ?\"))\n",
    "\n",
    "\n",
    "# counter c initialize to zero\n",
    "c = 0 \n",
    "\n",
    "\n",
    "#using the if else condition find the given input number n is less than 0.\n",
    "if n <= 0:\n",
    "    print(\"Please enter the positive integer\")\n",
    "elif n == 1:   #elif is used for continous conditional loop checking.\n",
    "    print(\"Fibonacci sequence up to \",n,\":\")\n",
    "    print(a) #printing initial value a\n",
    "else:\n",
    "    print(\"Fibonacci Sequence : \")\n",
    "\n",
    "    \n",
    "    \n",
    "while c < n:  #logic begins here : checking that when the counter is less than the entered required sequenced input.\n",
    "    print(a)  #print first number of the sequence .\n",
    "        \n",
    "    nth = a + b  # finding the third term by the addition of the previous two number which was initialize\n",
    "       #updating the values of the initials .\n",
    "    a = b  # now b's value in place of a .\n",
    "    b = nth  # new nth value in place of the b.\n",
    "    c = c + 1  #increasing the counter by +1."
   ]
  },
  {
   "cell_type": "code",
   "execution_count": null,
   "id": "8db419bf",
   "metadata": {},
   "outputs": [],
   "source": []
  },
  {
   "cell_type": "code",
   "execution_count": null,
   "id": "e4e3ceec",
   "metadata": {},
   "outputs": [],
   "source": []
  }
 ],
 "metadata": {
  "kernelspec": {
   "display_name": "Python 3",
   "language": "python",
   "name": "python3"
  },
  "language_info": {
   "codemirror_mode": {
    "name": "ipython",
    "version": 3
   },
   "file_extension": ".py",
   "mimetype": "text/x-python",
   "name": "python",
   "nbconvert_exporter": "python",
   "pygments_lexer": "ipython3",
   "version": "3.8.8"
  }
 },
 "nbformat": 4,
 "nbformat_minor": 5
}

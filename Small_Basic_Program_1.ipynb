{
 "cells": [
  {
   "cell_type": "markdown",
   "id": "4dc71d3a",
   "metadata": {},
   "source": [
    "# PROGRAM TO FIND SUM OF NUMBERS FROM 1-100 :"
   ]
  },
  {
   "cell_type": "code",
   "execution_count": 2,
   "id": "84012181",
   "metadata": {},
   "outputs": [
    {
     "name": "stdout",
     "output_type": "stream",
     "text": [
      "Sum is 5050\n"
     ]
    }
   ],
   "source": [
    "\n",
    "summ = 0     #initialize summ=0\n",
    "\n",
    "for i in range(1,101):   #loop will run form 1-100\n",
    "    summ = summ + i      #For first loop 0=0+1   = 1\n",
    "\n",
    "print(\"Sum is\",summ)"
   ]
  },
  {
   "cell_type": "code",
   "execution_count": 3,
   "id": "5f2b6f74",
   "metadata": {},
   "outputs": [],
   "source": [
    "#----------------------------------------------------------------------------------------------------------------------------"
   ]
  },
  {
   "cell_type": "markdown",
   "id": "6f17b2ac",
   "metadata": {},
   "source": [
    "# PROGRAM TO PRINT THE TABLE OF ANY NUMBER"
   ]
  },
  {
   "cell_type": "code",
   "execution_count": 6,
   "id": "136bff8a",
   "metadata": {},
   "outputs": [
    {
     "name": "stdout",
     "output_type": "stream",
     "text": [
      "Enter any number to find its table =5\n",
      "5 * 1 = 5\n",
      "5 * 2 = 10\n",
      "5 * 3 = 15\n",
      "5 * 4 = 20\n",
      "5 * 5 = 25\n",
      "5 * 6 = 30\n",
      "5 * 7 = 35\n",
      "5 * 8 = 40\n",
      "5 * 9 = 45\n",
      "5 * 10 = 50\n"
     ]
    }
   ],
   "source": [
    "num = int(input(\"Enter any number to find its table =\"))\n",
    "\n",
    "for i in range(1,11):\n",
    "    print(num,\"*\",i,\"=\",num*i)"
   ]
  },
  {
   "cell_type": "code",
   "execution_count": 7,
   "id": "82532f42",
   "metadata": {},
   "outputs": [],
   "source": [
    "#------------------------------------------------------------------------------------------------------------------------------"
   ]
  },
  {
   "cell_type": "markdown",
   "id": "ff4c4aa3",
   "metadata": {},
   "source": [
    "# PROGRAM TO CALCULATE THE FACTORIAL OF NUMBER "
   ]
  },
  {
   "cell_type": "code",
   "execution_count": 13,
   "id": "be52e087",
   "metadata": {},
   "outputs": [
    {
     "name": "stdout",
     "output_type": "stream",
     "text": [
      "Enter any number to find its factorial = 4\n",
      "factorial of a  number is 24\n"
     ]
    }
   ],
   "source": [
    "number = int(input(\"Enter any number to find its factorial = \"))\n",
    "factorial = 1  \n",
    "\n",
    "\n",
    "for i in range(1,number+1):\n",
    "        factorial = factorial * i\n",
    "\n",
    "print(\"factorial of a  number is\",factorial)"
   ]
  },
  {
   "cell_type": "code",
   "execution_count": null,
   "id": "6b12389b",
   "metadata": {},
   "outputs": [],
   "source": [
    "-------------------------------------------------------------------------------------"
   ]
  }
 ],
 "metadata": {
  "kernelspec": {
   "display_name": "Python 3",
   "language": "python",
   "name": "python3"
  },
  "language_info": {
   "codemirror_mode": {
    "name": "ipython",
    "version": 3
   },
   "file_extension": ".py",
   "mimetype": "text/x-python",
   "name": "python",
   "nbconvert_exporter": "python",
   "pygments_lexer": "ipython3",
   "version": "3.8.8"
  }
 },
 "nbformat": 4,
 "nbformat_minor": 5
}

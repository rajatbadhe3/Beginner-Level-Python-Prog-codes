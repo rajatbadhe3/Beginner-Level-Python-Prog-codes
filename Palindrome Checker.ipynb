{
 "cells": [
  {
   "cell_type": "code",
   "execution_count": 2,
   "id": "712f6167",
   "metadata": {},
   "outputs": [
    {
     "name": "stdout",
     "output_type": "stream",
     "text": [
      "Enter the string you want to check: malayalam\n",
      "malayalam is a Palindrome String\n"
     ]
    }
   ],
   "source": [
    "def isPalindrome(res):\n",
    "    return res == res[::-1]\n",
    "\n",
    "res = input('Enter the string you want to check: ')\n",
    "ans = isPalindrome(res)\n",
    "\n",
    "if ans:\n",
    "    print(\"{} is a Palindrome String\".format(res))\n",
    "else:\n",
    "    print(\"{} is not a Palindrome String\".format(res))"
   ]
  },
  {
   "cell_type": "code",
   "execution_count": null,
   "id": "d5e40c76",
   "metadata": {},
   "outputs": [],
   "source": []
  }
 ],
 "metadata": {
  "kernelspec": {
   "display_name": "Python 3",
   "language": "python",
   "name": "python3"
  },
  "language_info": {
   "codemirror_mode": {
    "name": "ipython",
    "version": 3
   },
   "file_extension": ".py",
   "mimetype": "text/x-python",
   "name": "python",
   "nbconvert_exporter": "python",
   "pygments_lexer": "ipython3",
   "version": "3.8.8"
  }
 },
 "nbformat": 4,
 "nbformat_minor": 5
}

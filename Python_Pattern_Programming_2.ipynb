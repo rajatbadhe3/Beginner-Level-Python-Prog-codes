{
 "cells": [
  {
   "cell_type": "code",
   "execution_count": 2,
   "id": "0b7b56f1",
   "metadata": {},
   "outputs": [],
   "source": [
    "#-----------------------------------------------------------------------------------------------------------------------------#"
   ]
  },
  {
   "cell_type": "markdown",
   "id": "e9a1d1f4",
   "metadata": {},
   "source": [
    "# Make this Pattern\n",
    "\n"
   ]
  },
  {
   "cell_type": "code",
   "execution_count": null,
   "id": "9e9a219f",
   "metadata": {},
   "outputs": [],
   "source": [
    "\n",
    "*****\n",
    "****\n",
    "***\n",
    "**\n",
    "*"
   ]
  },
  {
   "cell_type": "code",
   "execution_count": 7,
   "id": "d8c0e2cf",
   "metadata": {},
   "outputs": [
    {
     "name": "stdout",
     "output_type": "stream",
     "text": [
      "*****\n",
      "\n",
      "****\n",
      "\n",
      "***\n",
      "\n",
      "**\n",
      "\n",
      "*\n",
      "\n"
     ]
    }
   ],
   "source": [
    "#here in this program we have to print the stars in the reverse decending order.\n",
    "\n",
    "\n",
    "for i in range (5,0,-1):      #here first i loop takes value of 5 as we need to print the 5 stars un first line \n",
    "    for j in range(1,i+1,):   #here j runs from 1-(5+1) i.e. 1-6 means five times print \"*\"\n",
    "        print('*', end=\"\")    #print statement change lines by default hence end to stop this\n",
    "    print(\"\\n\")               #for next line "
   ]
  },
  {
   "cell_type": "code",
   "execution_count": null,
   "id": "e971425e",
   "metadata": {},
   "outputs": [],
   "source": [
    "---------------------------------------------------------------------------------------------------------------------------"
   ]
  },
  {
   "cell_type": "markdown",
   "id": "6120a21e",
   "metadata": {},
   "source": [
    "# MAKE THIS PATTERN"
   ]
  },
  {
   "cell_type": "code",
   "execution_count": null,
   "id": "c4d0d8d6",
   "metadata": {},
   "outputs": [],
   "source": [
    "    *\n",
    "   **\n",
    "  ***\n",
    " ****\n",
    "*****"
   ]
  },
  {
   "cell_type": "code",
   "execution_count": 8,
   "id": "c4dd8c08",
   "metadata": {},
   "outputs": [
    {
     "name": "stdout",
     "output_type": "stream",
     "text": [
      "    *\n",
      "\n",
      "   **\n",
      "\n",
      "  ***\n",
      "\n",
      " ****\n",
      "\n",
      "*****\n",
      "\n"
     ]
    }
   ],
   "source": [
    "for i in range(1,6):      #First time this loop will run for 5 times as i = 6\n",
    "    for j in range(1,6-i):  #run form 1-(6-1) i.e. 1-5 hence run four times print \"space\"\n",
    "        print(\" \",end=\"\")   #end after spaces \n",
    "    for k in range(1,i+1):  #k will run form printing 1 star than two star and so on \n",
    "        print(\"*\",end=\"\")\n",
    "    print(\"\\n\")"
   ]
  },
  {
   "cell_type": "code",
   "execution_count": null,
   "id": "55c7ae73",
   "metadata": {},
   "outputs": [],
   "source": []
  }
 ],
 "metadata": {
  "kernelspec": {
   "display_name": "Python 3",
   "language": "python",
   "name": "python3"
  },
  "language_info": {
   "codemirror_mode": {
    "name": "ipython",
    "version": 3
   },
   "file_extension": ".py",
   "mimetype": "text/x-python",
   "name": "python",
   "nbconvert_exporter": "python",
   "pygments_lexer": "ipython3",
   "version": "3.8.8"
  }
 },
 "nbformat": 4,
 "nbformat_minor": 5
}
